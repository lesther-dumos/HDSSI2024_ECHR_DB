{
 "cells": [
  {
   "cell_type": "code",
   "execution_count": 88,
   "metadata": {},
   "outputs": [],
   "source": [
    "# Libraries\n",
    "import pandas as pd\n",
    "import numpy as np\n",
    "import re"
   ]
  },
  {
   "cell_type": "code",
   "execution_count": 89,
   "metadata": {},
   "outputs": [],
   "source": [
    "pd.options.display.max_rows = 999\n",
    "pd.set_option('display.max_columns', 100) \n",
    "\n",
    "\n"
   ]
  },
  {
   "cell_type": "code",
   "execution_count": 97,
   "metadata": {},
   "outputs": [
    {
     "name": "stderr",
     "output_type": "stream",
     "text": [
      "C:\\Users\\Lesther D\\AppData\\Local\\Temp\\ipykernel_12284\\2094830124.py:2: DtypeWarning: Columns (0) have mixed types. Specify dtype option on import or set low_memory=False.\n",
      "  ECHdb = pd.read_csv('Data\\ECHRdb_Comprehensive_BUS_PB&LD.xlsx - BUS.csv')\n"
     ]
    }
   ],
   "source": [
    "# Importing Dataframes --------------------------------------------------------------\n",
    "ECHdb = pd.read_csv('Data\\ECHRdb_Comprehensive_BUS_PB&LD.xlsx - BUS.csv')\n",
    "soc_df = pd.read_csv('Data\\soc_guide - Sheet1.csv')\n",
    "env_df = pd.read_csv('Data\\env_guide - Sheet1.csv')"
   ]
  },
  {
   "cell_type": "markdown",
   "metadata": {},
   "source": [
    "# Post 2020 for Social and Environment Guides"
   ]
  },
  {
   "cell_type": "code",
   "execution_count": 91,
   "metadata": {},
   "outputs": [],
   "source": [
    "# Organizing Social Guide ------------------------------------------------------------\n",
    "\n",
    "# Extract the title name and create a new column 'casetitle'\n",
    "regex_p = r'(.+?)(?=, (?:no|nos|\\d))'\n",
    "soc_df['casetitle'] = soc_df['txt_extract'].str.extract(regex_p, expand=False)\n",
    "\n",
    "# Extract the app number into a new column 'app'\n",
    "regex_n = r'\\d+/\\d+|(?<=no\\. )\\d{2,3}|(?<=nos\\. )\\d{2,3}'\n",
    "soc_df['app'] = soc_df['txt_extract'].str.findall(regex_n)\n",
    "\n",
    "def join_matches(match_list):\n",
    "    if len(match_list) > 1:\n",
    "        return ', '.join(match_list)\n",
    "    elif match_list:\n",
    "        return match_list[0]\n",
    "    else:\n",
    "        return ''\n",
    "\n",
    "soc_df['app'] = soc_df['app'].apply(join_matches)\n",
    "\n",
    "# Extract the year that and into the \"year\" column\n",
    "regex_y = r'\\b(?:19\\d{2}|20[0-4]\\d|2050)\\b'\n",
    "soc_df['year'] = soc_df['txt_extract'].apply(lambda x: list(set(re.findall(regex_y, x))))\n",
    "\n",
    "# Convert the year list to an integer (taking the first year if there are multiple years)\n",
    "def extract_first_year(year_list):\n",
    "    if year_list:\n",
    "        return int(year_list[0])\n",
    "    return None\n",
    "\n",
    "soc_df['year'] = soc_df['year'].apply(extract_first_year)\n",
    "\n",
    "# Organizing Environment Guide ------------------------------------------------------------\n",
    "# Extract the title name and create a new column 'casetitle'\n",
    "regex_p = r'(.+?)(?=, (?:no|nos|\\d))'\n",
    "env_df['casetitle'] = env_df['txt_extract'].str.extract(regex_p, expand=False)\n",
    "\n",
    "# Extract the app number into a new column 'app'\n",
    "regex_n = r'\\d+/\\d+|(?<=no\\. )\\d{2,3}|(?<=nos\\. )\\d{2,3}'\n",
    "env_df['app'] = env_df['txt_extract'].str.findall(regex_n)\n",
    "\n",
    "def join_matches(match_list):\n",
    "    if len(match_list) > 1:\n",
    "        return ', '.join(match_list)\n",
    "    elif match_list:\n",
    "        return match_list[0]\n",
    "    else:\n",
    "        return ''\n",
    "\n",
    "env_df['app'] = env_df['app'].apply(join_matches)\n",
    "\n",
    "# Extract the year that and into the \"year\" column\n",
    "regex_y = r'\\b(?:19\\d{2}|20[0-4]\\d|2050)\\b'\n",
    "env_df['year'] = env_df['txt_extract'].apply(lambda x: list(set(re.findall(regex_y, x))))\n",
    "# Convert the year list to an integer (taking the first year if there are multiple years)\n",
    "def extract_first_year(year_list):\n",
    "    if year_list:\n",
    "        return int(year_list[0])\n",
    "    return None\n",
    "\n",
    "env_df['year'] = env_df['year'].apply(extract_first_year)\n",
    "env_df['year'] = env_df['year'].astype('Int64')  "
   ]
  },
  {
   "cell_type": "code",
   "execution_count": 96,
   "metadata": {},
   "outputs": [],
   "source": [
    "#env_df"
   ]
  },
  {
   "cell_type": "code",
   "execution_count": 93,
   "metadata": {},
   "outputs": [
    {
     "name": "stdout",
     "output_type": "stream",
     "text": [
      "[Title]Amount NA: 0\n",
      "[Title]Columns that are NA: Empty DataFrame\n",
      "Columns: [txt_extract, casetitle, app, year]\n",
      "Index: []\n",
      "\n",
      "[App]Amount NA: 0\n",
      "[App]Columns that are NA: Empty DataFrame\n",
      "Columns: [txt_extract, casetitle, app, year]\n",
      "Index: []\n",
      "\n"
     ]
    }
   ],
   "source": [
    "# Finding NA for title\n",
    "print(\"[Title]Amount NA:\", pd.isna(soc_df['casetitle']).sum())\n",
    "print(\"[Title]Columns that are NA:\", soc_df[pd.isna(soc_df['casetitle'])])\n",
    "print()\n",
    "\n",
    "# Finding NA for app number\n",
    "print(\"[App]Amount NA:\", pd.isna(soc_df['app']).sum())\n",
    "print(\"[App]Columns that are NA:\", soc_df[pd.isna(soc_df['app'])])\n",
    "print()"
   ]
  },
  {
   "cell_type": "code",
   "execution_count": 94,
   "metadata": {},
   "outputs": [],
   "source": [
    "# Extract to an external file .xlsx\n",
    "soc_post2020 = soc_df[soc_df['year'] > 2020]\n",
    "soc_post2020.to_excel('Data/soc_post2020.xlsx', index=False)\n",
    "\n",
    "env_post2020 = env_df[env_df['year'] > 2020]\n",
    "env_post2020.to_excel('Data/env_post2020.xlsx', index=False)"
   ]
  },
  {
   "cell_type": "markdown",
   "metadata": {},
   "source": [
    "## Inserting 0 in ECHdb Dataframe"
   ]
  },
  {
   "cell_type": "code",
   "execution_count": 106,
   "metadata": {},
   "outputs": [],
   "source": [
    "ECHdb['BUS'].fillna(0, inplace=True)\n",
    "ECHdb['BUS'] = ECHdb['BUS'].astype(int)\n",
    "ECHdb\n",
    "\n",
    "ECHdb.to_excel('Data/ECHRdb_Comprehensive_BUS_PB&LD_nan.xlsx', index=False)"
   ]
  }
 ],
 "metadata": {
  "kernelspec": {
   "display_name": "base",
   "language": "python",
   "name": "python3"
  },
  "language_info": {
   "codemirror_mode": {
    "name": "ipython",
    "version": 3
   },
   "file_extension": ".py",
   "mimetype": "text/x-python",
   "name": "python",
   "nbconvert_exporter": "python",
   "pygments_lexer": "ipython3",
   "version": "3.11.5"
  }
 },
 "nbformat": 4,
 "nbformat_minor": 2
}
