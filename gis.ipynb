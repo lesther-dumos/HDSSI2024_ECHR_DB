{
 "cells": [
  {
   "cell_type": "code",
   "execution_count": 1,
   "metadata": {},
   "outputs": [],
   "source": [
    "import pandas as pd\n",
    "import numpy as np\n"
   ]
  },
  {
   "cell_type": "code",
   "execution_count": 2,
   "metadata": {},
   "outputs": [],
   "source": [
    "# COunt of cases & \n",
    "countries = ['Austria', 'Belgium', 'Switzerland', 'Cyprus', 'Germany', 'Denmark', 'Spain', 'France', 'Greece', 'Italy', 'Ireland', 'Iceland', 'Luxemburg', 'Malta', 'Norway', \n",
    "             'Netherlands', 'Portugal', 'Sweden', 'Finland', 'Turkey', 'United Kingdom', 'Albania', 'Andorra', 'Armenia', 'Azerbaijan', 'Bulgaria', 'Croatia', 'Czech Republic', \n",
    "             'Estonia', 'Georgia', 'Hungary', 'Latvia', 'Liechtenstein', 'Lithuania', 'Moldova', 'Poland', 'Romania', 'Russia', 'San Marino', 'Slovakia', 'Slovenia', 'North Macedonia', \n",
    "             'Ukraine', 'Bosnia Herzegovina', 'Serbia and Montenegro', 'Monaco', 'Montenegro', 'Serbia']\n",
    "\n",
    "\n",
    "text = \"Afghanistan, Akrotiri and Dhekelia, Åland, Albania, Algeria, American Samoa, Andorra, Angola, Anguilla, Antigua and Barbuda, Argentina, Armenia, Aruba, Australia, Austria, Azerbaijan Bahamas, Bahrain, Bangladesh, Barbados, Belarus, Belgium, Belize, Benin, Bermuda, Bhutan, Bolivia, Bonaire, Saint Eustatius and Saba, Bosnia and Herzegovina, Botswana, Bouvet Island, Brazil, British Indian Ocean Territory, British Virgin Islands, Brunei, Bulgaria, Burkina Faso, Burundi Cambodia, Cameroon, Canada, Cabo Verde, Caspian Sea, Cayman Islands, Central African Republic, Chad, Chile, China, Christmas Island, Clipperton Island, Cocos Islands, Colombia, Comoros, Cook Islands, Costa Rica, Côte d’Ivoire, Croatia, Cuba, Curaçao, Cyprus, Czechia Democratic Republic of the Congo, Denmark, Djibouti, Dominica, Dominican Republic Ecuador, Egypt, El Salvador, Equatorial Guinea, Eritrea, Estonia, Ethiopia Falkland Islands, Faroe Islands, Fiji, Finland, France, French Guiana, French Polynesia, French Southern Territories Gabon, Gambia, Georgia, Germany, Ghana, Gibraltar, Greece, Greenland, Grenada, Guadeloupe, Guam, Guatemala, Guernsey, Guinea, Guinea-Bissau, Guyana Haiti, Heard Island and McDonald Islands, Honduras, Hong Kong, Hungary Iceland, India, Indonesia, Iran, Iraq, Ireland, Isle of Man, Israel, Italy Jamaica, Japan, Jersey, Jordan Kazakhstan, Kenya, Kiribati, Kosovo, Kuwait, Kyrgyzstan Laos, Latvia, Lebanon, Lesotho, Liberia, Libya, Liechtenstein, Lithuania, Luxembourg Macao, Macedonia, Madagascar, Malawi, Malaysia, Maldives, Mali, Malta, Marshall Islands, Martinique, Mauritania, Mauritius, Mayotte, Mexico, Micronesia, Moldova, Monaco, Mongolia, Montenegro, Montserrat, Morocco, Mozambique, Myanmar Namibia, Nauru, Nepal, Netherlands, New Caledonia, New Zealand, Nicaragua, Niger, Nigeria, Niue, Norfolk Island, North Korea, Northern Cyprus, Northern Mariana Islands, Norway Oman Pakistan, Palau, Palestine, Panama, Papua New Guinea, Paraguay, Peru, Philippines, Pitcairn Islands, Poland, Portugal, Puerto Rico Qatar Republic of the Congo, Réunion, Romania, Russia, Rwanda Saint-Barthélemy, Saint-Martin, Saint Helena, Ascension and Tristan da Cunha, Saint Kitts and Nevis, Saint Lucia, Saint Pierre and Miquelon, Saint Vincent and the Grenadines, Samoa, San Marino, São Tomé and Príncipe, Saudi Arabia, Senegal, Serbia, Seychelles, Sierra Leone, Singapore, Slovakia, Slovenia, Solomon Islands, Somalia, South Africa, South Georgia and the South Sandwich Islands, South Korea, South Sudan, Spain, Sri Lanka, Sudan, Suriname, Svalbard and Jan Mayen, Swaziland, Sweden, Switzerland, Syria Taiwan, Tajikistan, Tanzania, Thailand, Timor-Leste, Togo, Tokelau, Tonga, Trinidad and Tobago, Tunisia, Turkey, Turkmenistan, Turks and Caicos Islands, Tuvalu Uganda, Ukraine, United Arab Emirates, United Kingdom, United States, United States Minor Outlying Islands, Uruguay, Uzbekistan Vanuatu, Vatican City, Venezuela, Vietnam, Virgin Islands, U.S. Wallis and Futuna, Western Sahara Yemen Zambia, Zimbabwe\""
   ]
  },
  {
   "cell_type": "code",
   "execution_count": 3,
   "metadata": {},
   "outputs": [
    {
     "name": "stdout",
     "output_type": "stream",
     "text": [
      "Countries not found in the text: ['Luxemburg', 'Czech Republic', 'North Macedonia', 'Bosnia Herzegovina', 'Serbia and Montenegro']\n"
     ]
    }
   ],
   "source": [
    "found_countries = []\n",
    "not_found_countries = []\n",
    "\n",
    "for country in countries:\n",
    "    if country in text:\n",
    "        found_countries.append(country)\n",
    "    else:\n",
    "        not_found_countries.append(country)\n",
    "\n",
    "print(\"Countries not found in the text:\", not_found_countries)"
   ]
  },
  {
   "cell_type": "code",
   "execution_count": 4,
   "metadata": {},
   "outputs": [],
   "source": [
    "found_countries_df = pd.DataFrame(found_countries, columns=[\"Country\"])\n",
    "\n",
    "found_countries_df.to_excel('Output/countries.xlsx', index=False)\n"
   ]
  },
  {
   "cell_type": "code",
   "execution_count": 21,
   "metadata": {},
   "outputs": [
    {
     "name": "stdout",
     "output_type": "stream",
     "text": [
      "Combined GeoJSON saved to output\\combined.json\n"
     ]
    }
   ],
   "source": [
    "import json\n",
    "import os\n",
    "\n",
    "json_files = [\"belgium.json\", \"cyprus.json\", \"austria.json\", \"switzerland.json\", \"germany.json\",\n",
    "              \"denmark.json\", \"spain.json\", \"france.json\", \"greece.json\", \"italy.json\", \"ireland.json\",\n",
    "              \"iceland.json\", \"malta.json\", \"norway.json\", \"netherlands.json\", \"portugla.json\", \"sweden.json\",\n",
    "              \"findland.json\", \"turkey.json\", \"united_kingdom.json\", \"albania.json\", \"andorra.json\", \n",
    "              \"armenia.json\", \"azerbaijan.json\", \"bulgaria.json\", \"croatia.json\", \"estonia.json\", \"georgia.json\",\n",
    "              \"hungary.json\", \"latvia.json\", \"liechtenstein.json\", \"lithuania.json\", \"moldova.json\", \"poland.json\",\n",
    "              \"romania.json\", \"russia.json\", \"san_marino.json\", \"slovakia.json\", \"slovenia.json\", \"ukraine.json\"]\n",
    "\n",
    "data_dir = \"country_shp\"\n",
    "\n",
    "all_features = []\n",
    "\n",
    "for json_file in json_files:\n",
    "    file_path = os.path.join(data_dir, json_file)\n",
    "    with open(file_path, \"r\") as f:\n",
    "        data = json.load(f)\n",
    "        if 'features' in data:\n",
    "            all_features.extend(data['features'])\n",
    "\n",
    "combined_geojson = {\n",
    "    \"type\": \"FeatureCollection\",\n",
    "    \"features\": all_features\n",
    "}\n",
    "\n",
    "output_dir = \"output\"\n",
    "output_file = os.path.join(output_dir, \"combined.json\")\n",
    "\n",
    "os.makedirs(output_dir, exist_ok=True)\n",
    "\n",
    "with open(output_file, \"w\") as f:\n",
    "    json.dump(combined_geojson, f, indent=4)\n",
    "\n",
    "print(f\"Combined GeoJSON saved to {output_file}\")\n"
   ]
  }
 ],
 "metadata": {
  "kernelspec": {
   "display_name": "base",
   "language": "python",
   "name": "python3"
  },
  "language_info": {
   "codemirror_mode": {
    "name": "ipython",
    "version": 3
   },
   "file_extension": ".py",
   "mimetype": "text/x-python",
   "name": "python",
   "nbconvert_exporter": "python",
   "pygments_lexer": "ipython3",
   "version": "3.10.9"
  }
 },
 "nbformat": 4,
 "nbformat_minor": 2
}
